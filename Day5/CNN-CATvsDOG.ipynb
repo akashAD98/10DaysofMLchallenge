{
 "cells": [
  {
   "cell_type": "code",
   "execution_count": 27,
   "metadata": {},
   "outputs": [],
   "source": [
    "#import library "
   ]
  },
  {
   "cell_type": "code",
   "execution_count": 8,
   "metadata": {},
   "outputs": [
    {
     "name": "stdout",
     "output_type": "stream",
     "text": [
      "Train on 52500 samples, validate on 22500 samples\n",
      "Epoch 1/8\n",
      "52500/52500 [==============================] - 661s 13ms/step - loss: 0.5444 - accuracy: 0.7213 - val_loss: 0.4216 - val_accuracy: 0.8148\n",
      "Epoch 2/8\n",
      "52500/52500 [==============================] - 3544s 68ms/step - loss: 0.4019 - accuracy: 0.8186 - val_loss: 0.2868 - val_accuracy: 0.8816\n",
      "Epoch 3/8\n",
      "52500/52500 [==============================] - 655s 12ms/step - loss: 0.2924 - accuracy: 0.8766 - val_loss: 0.1638 - val_accuracy: 0.9451\n",
      "Epoch 4/8\n",
      "52500/52500 [==============================] - 1787s 34ms/step - loss: 0.1996 - accuracy: 0.9191 - val_loss: 0.0720 - val_accuracy: 0.9832\n",
      "Epoch 5/8\n",
      "52500/52500 [==============================] - 650s 12ms/step - loss: 0.1422 - accuracy: 0.9451 - val_loss: 0.0509 - val_accuracy: 0.9882\n",
      "Epoch 6/8\n",
      "52500/52500 [==============================] - 6833s 130ms/step - loss: 0.1147 - accuracy: 0.9562 - val_loss: 0.0230 - val_accuracy: 0.9968\n",
      "Epoch 7/8\n",
      "52500/52500 [==============================] - 664s 13ms/step - loss: 0.0963 - accuracy: 0.9633 - val_loss: 0.0408 - val_accuracy: 0.9882\n",
      "Epoch 8/8\n",
      "52500/52500 [==============================] - 655s 12ms/step - loss: 0.0872 - accuracy: 0.9661 - val_loss: 0.0128 - val_accuracy: 0.9988\n",
      "75000/75000 [==============================] - 215s 3ms/step\n",
      "test_loss 0.012089986229439577\n",
      "test accuracy 0.9989200234413147\n"
     ]
    }
   ],
   "source": [
    "import keras\n",
    "from keras.models import Sequential\n",
    "from keras.layers import Dense,Dropout,Flatten\n",
    "from keras.layers import Conv2D,MaxPooling2D\n",
    "import tensorflow as tf\n",
    "\n",
    "\n",
    "#you need to pickle train & validation data// (this i shown in my next file plese check)\n",
    "import pickle\n",
    "X=pickle.load(open('X_pickle','rb'))#train-->\n",
    "y=pickle.load(open('y_pickle','rb'))#validation\n",
    "\n",
    "X=X/255.0\n",
    "\n",
    "#ceerate CNN model\n",
    "model=Sequential()\n",
    "model.add(Conv2D(32,kernel_size=(3,3),activation='relu',input_shape=X.shape[1:]))\n",
    "model.add(Conv2D(64,(3,3),activation='relu'))\n",
    "model.add(MaxPooling2D(pool_size=(2,2)))\n",
    "model.add(Dropout(0.25))\n",
    "model.add(Flatten())\n",
    "model.add(Dense(128,activation='relu'))\n",
    "model.add(Dropout(0.5))\n",
    "model.add(Dense(1,activation='sigmoid'))\n",
    "model.compile(loss = 'binary_crossentropy',optimizer = 'adam',metrics=['accuracy'])\n",
    "\n",
    "\n",
    "#fit and save the modell\n",
    "\n",
    "model.fit(X,y,validation_split=0.3,epochs=8,batch_size=32)\n",
    "model.fi\n",
    "model.save('64x3cnn.model') ##you can also save in .hdf5 formate\n",
    "\n",
    "#print score\n",
    "\n",
    "scores=model.evaluate(X,y,verbose=1)\n",
    "print('test_loss',scores[0])\n",
    "print('test accuracy',scores[1])\n"
   ]
  },
  {
   "cell_type": "code",
   "execution_count": 23,
   "metadata": {},
   "outputs": [
    {
     "name": "stdout",
     "output_type": "stream",
     "text": [
      "Model: \"sequential_1\"\n",
      "_________________________________________________________________\n",
      "Layer (type)                 Output Shape              Param #   \n",
      "=================================================================\n",
      "conv2d_1 (Conv2D)            (None, 48, 48, 32)        320       \n",
      "_________________________________________________________________\n",
      "conv2d_2 (Conv2D)            (None, 46, 46, 64)        18496     \n",
      "_________________________________________________________________\n",
      "max_pooling2d_1 (MaxPooling2 (None, 23, 23, 64)        0         \n",
      "_________________________________________________________________\n",
      "dropout_1 (Dropout)          (None, 23, 23, 64)        0         \n",
      "_________________________________________________________________\n",
      "flatten_1 (Flatten)          (None, 33856)             0         \n",
      "_________________________________________________________________\n",
      "dense_1 (Dense)              (None, 128)               4333696   \n",
      "_________________________________________________________________\n",
      "dropout_2 (Dropout)          (None, 128)               0         \n",
      "_________________________________________________________________\n",
      "dense_2 (Dense)              (None, 1)                 129       \n",
      "=================================================================\n",
      "Total params: 4,352,641\n",
      "Trainable params: 4,352,641\n",
      "Non-trainable params: 0\n",
      "_________________________________________________________________\n"
     ]
    }
   ],
   "source": [
    "model.summary()\n"
   ]
  },
  {
   "cell_type": "markdown",
   "metadata": {},
   "source": [
    "#Loading and testing of model"
   ]
  },
  {
   "cell_type": "code",
   "execution_count": 10,
   "metadata": {},
   "outputs": [
    {
     "name": "stdout",
     "output_type": "stream",
     "text": [
      "55\n",
      "[[1.]]\n"
     ]
    }
   ],
   "source": [
    "import cv2\n",
    "import tensorflow as tf\n",
    "\n",
    "CATEGORIES=['cat','dog']\n",
    "                         \n",
    "model=tf.keras.models.load_model(\"64x3cnn.model\")\n",
    "\n",
    "                     \n",
    "\n",
    "def prep(filepath):\n",
    "    IMG_SIZE=50\n",
    "    img_array=cv2.imread(filepath,cv2.IMREAD_GRAYSCALE)\n",
    "    new_array=cv2.resize(img_array,(IMG_SIZE,IMG_SIZE))\n",
    "    return new_array.reshape(-1,IMG_SIZE,IMG_SIZE,1)\n",
    "                         \n",
    "                         \n",
    "                         \n",
    "model=tf.keras.models.load_model(\"64x3cnn.model\") #load weights or model\n",
    "print(\"55\")\n",
    "prediction = model.predict([prep(\"dog.4.jpg\")]) #load image which you want to predict\n",
    "                         \n",
    "print(prediction)\n",
    "                         "
   ]
  },
  {
   "cell_type": "code",
   "execution_count": 13,
   "metadata": {},
   "outputs": [
    {
     "name": "stdout",
     "output_type": "stream",
     "text": [
      "dog\n"
     ]
    }
   ],
   "source": [
    "prediction = model.predict([prep(\"dog.4.jpg\")])                         \n",
    "print(CATEGORIES[int(prediction[0][0])])"
   ]
  },
  {
   "cell_type": "code",
   "execution_count": null,
   "metadata": {},
   "outputs": [],
   "source": [
    "#plt.plot(model.history['accuracy'])\n",
    "#plt.plot(model.history['val_accuracy'])\n",
    "#plt.legend(['train','val'],loc='upper left')\n",
    "#plt.show()"
   ]
  },
  {
   "cell_type": "code",
   "execution_count": null,
   "metadata": {},
   "outputs": [],
   "source": []
  },
  {
   "cell_type": "code",
   "execution_count": null,
   "metadata": {},
   "outputs": [],
   "source": []
  }
 ],
 "metadata": {
  "kernelspec": {
   "display_name": "Python 3",
   "language": "python",
   "name": "python3"
  },
  "language_info": {
   "codemirror_mode": {
    "name": "ipython",
    "version": 3
   },
   "file_extension": ".py",
   "mimetype": "text/x-python",
   "name": "python",
   "nbconvert_exporter": "python",
   "pygments_lexer": "ipython3",
   "version": "3.6.5"
  }
 },
 "nbformat": 4,
 "nbformat_minor": 4
}
