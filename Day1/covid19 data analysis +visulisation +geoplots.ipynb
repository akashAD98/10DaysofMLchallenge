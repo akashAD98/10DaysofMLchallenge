{
 "cells": [
  {
   "cell_type": "code",
   "execution_count": null,
   "metadata": {},
   "outputs": [],
   "source": []
  },
  {
   "cell_type": "code",
   "execution_count": 1,
   "metadata": {},
   "outputs": [],
   "source": [
    "import pandas as pd\n",
    "import matplotlib.pyplot as plt\n",
    "import numpy as np\n",
    "import seaborn as sns\n",
    "import cv2\n",
    "%matplotlib inline\n",
    "\n"
   ]
  },
  {
   "cell_type": "code",
   "execution_count": 2,
   "metadata": {},
   "outputs": [
    {
     "data": {
      "text/html": [
       "<div>\n",
       "<style scoped>\n",
       "    .dataframe tbody tr th:only-of-type {\n",
       "        vertical-align: middle;\n",
       "    }\n",
       "\n",
       "    .dataframe tbody tr th {\n",
       "        vertical-align: top;\n",
       "    }\n",
       "\n",
       "    .dataframe thead th {\n",
       "        text-align: right;\n",
       "    }\n",
       "</style>\n",
       "<table border=\"1\" class=\"dataframe\">\n",
       "  <thead>\n",
       "    <tr style=\"text-align: right;\">\n",
       "      <th></th>\n",
       "      <th>Province/State</th>\n",
       "      <th>Country/Region</th>\n",
       "      <th>Lat</th>\n",
       "      <th>Long</th>\n",
       "      <th>1/22/20</th>\n",
       "      <th>1/23/20</th>\n",
       "      <th>1/24/20</th>\n",
       "      <th>1/25/20</th>\n",
       "      <th>1/26/20</th>\n",
       "      <th>1/27/20</th>\n",
       "      <th>...</th>\n",
       "      <th>3/13/20</th>\n",
       "      <th>3/14/20</th>\n",
       "      <th>3/15/20</th>\n",
       "      <th>3/16/20</th>\n",
       "      <th>3/17/20</th>\n",
       "      <th>3/18/20</th>\n",
       "      <th>3/19/20</th>\n",
       "      <th>3/20/20</th>\n",
       "      <th>3/21/20</th>\n",
       "      <th>3/22/20</th>\n",
       "    </tr>\n",
       "  </thead>\n",
       "  <tbody>\n",
       "    <tr>\n",
       "      <th>0</th>\n",
       "      <td>NaN</td>\n",
       "      <td>Thailand</td>\n",
       "      <td>15.0000</td>\n",
       "      <td>101.0000</td>\n",
       "      <td>2</td>\n",
       "      <td>3</td>\n",
       "      <td>5</td>\n",
       "      <td>7</td>\n",
       "      <td>8</td>\n",
       "      <td>8</td>\n",
       "      <td>...</td>\n",
       "      <td>75</td>\n",
       "      <td>82</td>\n",
       "      <td>114</td>\n",
       "      <td>147</td>\n",
       "      <td>177</td>\n",
       "      <td>212</td>\n",
       "      <td>272</td>\n",
       "      <td>322</td>\n",
       "      <td>411</td>\n",
       "      <td>599</td>\n",
       "    </tr>\n",
       "    <tr>\n",
       "      <th>1</th>\n",
       "      <td>NaN</td>\n",
       "      <td>Japan</td>\n",
       "      <td>36.0000</td>\n",
       "      <td>138.0000</td>\n",
       "      <td>2</td>\n",
       "      <td>1</td>\n",
       "      <td>2</td>\n",
       "      <td>2</td>\n",
       "      <td>4</td>\n",
       "      <td>4</td>\n",
       "      <td>...</td>\n",
       "      <td>701</td>\n",
       "      <td>773</td>\n",
       "      <td>839</td>\n",
       "      <td>825</td>\n",
       "      <td>878</td>\n",
       "      <td>889</td>\n",
       "      <td>924</td>\n",
       "      <td>963</td>\n",
       "      <td>1007</td>\n",
       "      <td>1086</td>\n",
       "    </tr>\n",
       "    <tr>\n",
       "      <th>2</th>\n",
       "      <td>NaN</td>\n",
       "      <td>Singapore</td>\n",
       "      <td>1.2833</td>\n",
       "      <td>103.8333</td>\n",
       "      <td>0</td>\n",
       "      <td>1</td>\n",
       "      <td>3</td>\n",
       "      <td>3</td>\n",
       "      <td>4</td>\n",
       "      <td>5</td>\n",
       "      <td>...</td>\n",
       "      <td>200</td>\n",
       "      <td>212</td>\n",
       "      <td>226</td>\n",
       "      <td>243</td>\n",
       "      <td>266</td>\n",
       "      <td>313</td>\n",
       "      <td>345</td>\n",
       "      <td>385</td>\n",
       "      <td>432</td>\n",
       "      <td>455</td>\n",
       "    </tr>\n",
       "    <tr>\n",
       "      <th>3</th>\n",
       "      <td>NaN</td>\n",
       "      <td>Nepal</td>\n",
       "      <td>28.1667</td>\n",
       "      <td>84.2500</td>\n",
       "      <td>0</td>\n",
       "      <td>0</td>\n",
       "      <td>0</td>\n",
       "      <td>1</td>\n",
       "      <td>1</td>\n",
       "      <td>1</td>\n",
       "      <td>...</td>\n",
       "      <td>1</td>\n",
       "      <td>1</td>\n",
       "      <td>1</td>\n",
       "      <td>1</td>\n",
       "      <td>1</td>\n",
       "      <td>1</td>\n",
       "      <td>1</td>\n",
       "      <td>1</td>\n",
       "      <td>1</td>\n",
       "      <td>2</td>\n",
       "    </tr>\n",
       "    <tr>\n",
       "      <th>4</th>\n",
       "      <td>NaN</td>\n",
       "      <td>Malaysia</td>\n",
       "      <td>2.5000</td>\n",
       "      <td>112.5000</td>\n",
       "      <td>0</td>\n",
       "      <td>0</td>\n",
       "      <td>0</td>\n",
       "      <td>3</td>\n",
       "      <td>4</td>\n",
       "      <td>4</td>\n",
       "      <td>...</td>\n",
       "      <td>197</td>\n",
       "      <td>238</td>\n",
       "      <td>428</td>\n",
       "      <td>566</td>\n",
       "      <td>673</td>\n",
       "      <td>790</td>\n",
       "      <td>900</td>\n",
       "      <td>1030</td>\n",
       "      <td>1183</td>\n",
       "      <td>1306</td>\n",
       "    </tr>\n",
       "    <tr>\n",
       "      <th>...</th>\n",
       "      <td>...</td>\n",
       "      <td>...</td>\n",
       "      <td>...</td>\n",
       "      <td>...</td>\n",
       "      <td>...</td>\n",
       "      <td>...</td>\n",
       "      <td>...</td>\n",
       "      <td>...</td>\n",
       "      <td>...</td>\n",
       "      <td>...</td>\n",
       "      <td>...</td>\n",
       "      <td>...</td>\n",
       "      <td>...</td>\n",
       "      <td>...</td>\n",
       "      <td>...</td>\n",
       "      <td>...</td>\n",
       "      <td>...</td>\n",
       "      <td>...</td>\n",
       "      <td>...</td>\n",
       "      <td>...</td>\n",
       "      <td>...</td>\n",
       "    </tr>\n",
       "    <tr>\n",
       "      <th>482</th>\n",
       "      <td>NaN</td>\n",
       "      <td>Dominica</td>\n",
       "      <td>15.4150</td>\n",
       "      <td>-61.3710</td>\n",
       "      <td>0</td>\n",
       "      <td>0</td>\n",
       "      <td>0</td>\n",
       "      <td>0</td>\n",
       "      <td>0</td>\n",
       "      <td>0</td>\n",
       "      <td>...</td>\n",
       "      <td>0</td>\n",
       "      <td>0</td>\n",
       "      <td>0</td>\n",
       "      <td>0</td>\n",
       "      <td>0</td>\n",
       "      <td>0</td>\n",
       "      <td>0</td>\n",
       "      <td>0</td>\n",
       "      <td>0</td>\n",
       "      <td>1</td>\n",
       "    </tr>\n",
       "    <tr>\n",
       "      <th>483</th>\n",
       "      <td>NaN</td>\n",
       "      <td>Grenada</td>\n",
       "      <td>12.1165</td>\n",
       "      <td>-61.6790</td>\n",
       "      <td>0</td>\n",
       "      <td>0</td>\n",
       "      <td>0</td>\n",
       "      <td>0</td>\n",
       "      <td>0</td>\n",
       "      <td>0</td>\n",
       "      <td>...</td>\n",
       "      <td>0</td>\n",
       "      <td>0</td>\n",
       "      <td>0</td>\n",
       "      <td>0</td>\n",
       "      <td>0</td>\n",
       "      <td>0</td>\n",
       "      <td>0</td>\n",
       "      <td>0</td>\n",
       "      <td>0</td>\n",
       "      <td>1</td>\n",
       "    </tr>\n",
       "    <tr>\n",
       "      <th>484</th>\n",
       "      <td>NaN</td>\n",
       "      <td>Mozambique</td>\n",
       "      <td>-18.6657</td>\n",
       "      <td>35.5296</td>\n",
       "      <td>0</td>\n",
       "      <td>0</td>\n",
       "      <td>0</td>\n",
       "      <td>0</td>\n",
       "      <td>0</td>\n",
       "      <td>0</td>\n",
       "      <td>...</td>\n",
       "      <td>0</td>\n",
       "      <td>0</td>\n",
       "      <td>0</td>\n",
       "      <td>0</td>\n",
       "      <td>0</td>\n",
       "      <td>0</td>\n",
       "      <td>0</td>\n",
       "      <td>0</td>\n",
       "      <td>0</td>\n",
       "      <td>1</td>\n",
       "    </tr>\n",
       "    <tr>\n",
       "      <th>485</th>\n",
       "      <td>NaN</td>\n",
       "      <td>Syria</td>\n",
       "      <td>34.8021</td>\n",
       "      <td>38.9968</td>\n",
       "      <td>0</td>\n",
       "      <td>0</td>\n",
       "      <td>0</td>\n",
       "      <td>0</td>\n",
       "      <td>0</td>\n",
       "      <td>0</td>\n",
       "      <td>...</td>\n",
       "      <td>0</td>\n",
       "      <td>0</td>\n",
       "      <td>0</td>\n",
       "      <td>0</td>\n",
       "      <td>0</td>\n",
       "      <td>0</td>\n",
       "      <td>0</td>\n",
       "      <td>0</td>\n",
       "      <td>0</td>\n",
       "      <td>1</td>\n",
       "    </tr>\n",
       "    <tr>\n",
       "      <th>486</th>\n",
       "      <td>NaN</td>\n",
       "      <td>Timor-Leste</td>\n",
       "      <td>-8.8742</td>\n",
       "      <td>125.7275</td>\n",
       "      <td>0</td>\n",
       "      <td>0</td>\n",
       "      <td>0</td>\n",
       "      <td>0</td>\n",
       "      <td>0</td>\n",
       "      <td>0</td>\n",
       "      <td>...</td>\n",
       "      <td>0</td>\n",
       "      <td>0</td>\n",
       "      <td>0</td>\n",
       "      <td>0</td>\n",
       "      <td>0</td>\n",
       "      <td>0</td>\n",
       "      <td>0</td>\n",
       "      <td>0</td>\n",
       "      <td>0</td>\n",
       "      <td>1</td>\n",
       "    </tr>\n",
       "  </tbody>\n",
       "</table>\n",
       "<p>487 rows × 65 columns</p>\n",
       "</div>"
      ],
      "text/plain": [
       "    Province/State Country/Region      Lat      Long  1/22/20  1/23/20  \\\n",
       "0              NaN       Thailand  15.0000  101.0000        2        3   \n",
       "1              NaN          Japan  36.0000  138.0000        2        1   \n",
       "2              NaN      Singapore   1.2833  103.8333        0        1   \n",
       "3              NaN          Nepal  28.1667   84.2500        0        0   \n",
       "4              NaN       Malaysia   2.5000  112.5000        0        0   \n",
       "..             ...            ...      ...       ...      ...      ...   \n",
       "482            NaN       Dominica  15.4150  -61.3710        0        0   \n",
       "483            NaN        Grenada  12.1165  -61.6790        0        0   \n",
       "484            NaN     Mozambique -18.6657   35.5296        0        0   \n",
       "485            NaN          Syria  34.8021   38.9968        0        0   \n",
       "486            NaN    Timor-Leste  -8.8742  125.7275        0        0   \n",
       "\n",
       "     1/24/20  1/25/20  1/26/20  1/27/20  ...  3/13/20  3/14/20  3/15/20  \\\n",
       "0          5        7        8        8  ...       75       82      114   \n",
       "1          2        2        4        4  ...      701      773      839   \n",
       "2          3        3        4        5  ...      200      212      226   \n",
       "3          0        1        1        1  ...        1        1        1   \n",
       "4          0        3        4        4  ...      197      238      428   \n",
       "..       ...      ...      ...      ...  ...      ...      ...      ...   \n",
       "482        0        0        0        0  ...        0        0        0   \n",
       "483        0        0        0        0  ...        0        0        0   \n",
       "484        0        0        0        0  ...        0        0        0   \n",
       "485        0        0        0        0  ...        0        0        0   \n",
       "486        0        0        0        0  ...        0        0        0   \n",
       "\n",
       "     3/16/20  3/17/20  3/18/20  3/19/20  3/20/20  3/21/20  3/22/20  \n",
       "0        147      177      212      272      322      411      599  \n",
       "1        825      878      889      924      963     1007     1086  \n",
       "2        243      266      313      345      385      432      455  \n",
       "3          1        1        1        1        1        1        2  \n",
       "4        566      673      790      900     1030     1183     1306  \n",
       "..       ...      ...      ...      ...      ...      ...      ...  \n",
       "482        0        0        0        0        0        0        1  \n",
       "483        0        0        0        0        0        0        1  \n",
       "484        0        0        0        0        0        0        1  \n",
       "485        0        0        0        0        0        0        1  \n",
       "486        0        0        0        0        0        0        1  \n",
       "\n",
       "[487 rows x 65 columns]"
      ]
     },
     "execution_count": 2,
     "metadata": {},
     "output_type": "execute_result"
    }
   ],
   "source": [
    "df=pd.read_csv(\"C:\\\\Users\\\\SMART\\\\Desktop\\\\pract\\\\TF CHALLENGE\\\\covid2019.csv\")\n",
    "df"
   ]
  },
  {
   "cell_type": "code",
   "execution_count": 3,
   "metadata": {},
   "outputs": [],
   "source": [
    "data=df.drop(columns=['Province/State'])"
   ]
  },
  {
   "cell_type": "code",
   "execution_count": 4,
   "metadata": {},
   "outputs": [
    {
     "data": {
      "text/html": [
       "<div>\n",
       "<style scoped>\n",
       "    .dataframe tbody tr th:only-of-type {\n",
       "        vertical-align: middle;\n",
       "    }\n",
       "\n",
       "    .dataframe tbody tr th {\n",
       "        vertical-align: top;\n",
       "    }\n",
       "\n",
       "    .dataframe thead th {\n",
       "        text-align: right;\n",
       "    }\n",
       "</style>\n",
       "<table border=\"1\" class=\"dataframe\">\n",
       "  <thead>\n",
       "    <tr style=\"text-align: right;\">\n",
       "      <th></th>\n",
       "      <th>Country/Region</th>\n",
       "      <th>Lat</th>\n",
       "      <th>Long</th>\n",
       "      <th>1/22/20</th>\n",
       "      <th>1/23/20</th>\n",
       "      <th>1/24/20</th>\n",
       "      <th>1/25/20</th>\n",
       "      <th>1/26/20</th>\n",
       "      <th>1/27/20</th>\n",
       "      <th>1/28/20</th>\n",
       "      <th>...</th>\n",
       "      <th>3/13/20</th>\n",
       "      <th>3/14/20</th>\n",
       "      <th>3/15/20</th>\n",
       "      <th>3/16/20</th>\n",
       "      <th>3/17/20</th>\n",
       "      <th>3/18/20</th>\n",
       "      <th>3/19/20</th>\n",
       "      <th>3/20/20</th>\n",
       "      <th>3/21/20</th>\n",
       "      <th>3/22/20</th>\n",
       "    </tr>\n",
       "  </thead>\n",
       "  <tbody>\n",
       "    <tr>\n",
       "      <th>0</th>\n",
       "      <td>Thailand</td>\n",
       "      <td>15.0000</td>\n",
       "      <td>101.0000</td>\n",
       "      <td>2</td>\n",
       "      <td>3</td>\n",
       "      <td>5</td>\n",
       "      <td>7</td>\n",
       "      <td>8</td>\n",
       "      <td>8</td>\n",
       "      <td>14</td>\n",
       "      <td>...</td>\n",
       "      <td>75</td>\n",
       "      <td>82</td>\n",
       "      <td>114</td>\n",
       "      <td>147</td>\n",
       "      <td>177</td>\n",
       "      <td>212</td>\n",
       "      <td>272</td>\n",
       "      <td>322</td>\n",
       "      <td>411</td>\n",
       "      <td>599</td>\n",
       "    </tr>\n",
       "    <tr>\n",
       "      <th>1</th>\n",
       "      <td>Japan</td>\n",
       "      <td>36.0000</td>\n",
       "      <td>138.0000</td>\n",
       "      <td>2</td>\n",
       "      <td>1</td>\n",
       "      <td>2</td>\n",
       "      <td>2</td>\n",
       "      <td>4</td>\n",
       "      <td>4</td>\n",
       "      <td>7</td>\n",
       "      <td>...</td>\n",
       "      <td>701</td>\n",
       "      <td>773</td>\n",
       "      <td>839</td>\n",
       "      <td>825</td>\n",
       "      <td>878</td>\n",
       "      <td>889</td>\n",
       "      <td>924</td>\n",
       "      <td>963</td>\n",
       "      <td>1007</td>\n",
       "      <td>1086</td>\n",
       "    </tr>\n",
       "    <tr>\n",
       "      <th>2</th>\n",
       "      <td>Singapore</td>\n",
       "      <td>1.2833</td>\n",
       "      <td>103.8333</td>\n",
       "      <td>0</td>\n",
       "      <td>1</td>\n",
       "      <td>3</td>\n",
       "      <td>3</td>\n",
       "      <td>4</td>\n",
       "      <td>5</td>\n",
       "      <td>7</td>\n",
       "      <td>...</td>\n",
       "      <td>200</td>\n",
       "      <td>212</td>\n",
       "      <td>226</td>\n",
       "      <td>243</td>\n",
       "      <td>266</td>\n",
       "      <td>313</td>\n",
       "      <td>345</td>\n",
       "      <td>385</td>\n",
       "      <td>432</td>\n",
       "      <td>455</td>\n",
       "    </tr>\n",
       "    <tr>\n",
       "      <th>3</th>\n",
       "      <td>Nepal</td>\n",
       "      <td>28.1667</td>\n",
       "      <td>84.2500</td>\n",
       "      <td>0</td>\n",
       "      <td>0</td>\n",
       "      <td>0</td>\n",
       "      <td>1</td>\n",
       "      <td>1</td>\n",
       "      <td>1</td>\n",
       "      <td>1</td>\n",
       "      <td>...</td>\n",
       "      <td>1</td>\n",
       "      <td>1</td>\n",
       "      <td>1</td>\n",
       "      <td>1</td>\n",
       "      <td>1</td>\n",
       "      <td>1</td>\n",
       "      <td>1</td>\n",
       "      <td>1</td>\n",
       "      <td>1</td>\n",
       "      <td>2</td>\n",
       "    </tr>\n",
       "    <tr>\n",
       "      <th>4</th>\n",
       "      <td>Malaysia</td>\n",
       "      <td>2.5000</td>\n",
       "      <td>112.5000</td>\n",
       "      <td>0</td>\n",
       "      <td>0</td>\n",
       "      <td>0</td>\n",
       "      <td>3</td>\n",
       "      <td>4</td>\n",
       "      <td>4</td>\n",
       "      <td>4</td>\n",
       "      <td>...</td>\n",
       "      <td>197</td>\n",
       "      <td>238</td>\n",
       "      <td>428</td>\n",
       "      <td>566</td>\n",
       "      <td>673</td>\n",
       "      <td>790</td>\n",
       "      <td>900</td>\n",
       "      <td>1030</td>\n",
       "      <td>1183</td>\n",
       "      <td>1306</td>\n",
       "    </tr>\n",
       "  </tbody>\n",
       "</table>\n",
       "<p>5 rows × 64 columns</p>\n",
       "</div>"
      ],
      "text/plain": [
       "  Country/Region      Lat      Long  1/22/20  1/23/20  1/24/20  1/25/20  \\\n",
       "0       Thailand  15.0000  101.0000        2        3        5        7   \n",
       "1          Japan  36.0000  138.0000        2        1        2        2   \n",
       "2      Singapore   1.2833  103.8333        0        1        3        3   \n",
       "3          Nepal  28.1667   84.2500        0        0        0        1   \n",
       "4       Malaysia   2.5000  112.5000        0        0        0        3   \n",
       "\n",
       "   1/26/20  1/27/20  1/28/20  ...  3/13/20  3/14/20  3/15/20  3/16/20  \\\n",
       "0        8        8       14  ...       75       82      114      147   \n",
       "1        4        4        7  ...      701      773      839      825   \n",
       "2        4        5        7  ...      200      212      226      243   \n",
       "3        1        1        1  ...        1        1        1        1   \n",
       "4        4        4        4  ...      197      238      428      566   \n",
       "\n",
       "   3/17/20  3/18/20  3/19/20  3/20/20  3/21/20  3/22/20  \n",
       "0      177      212      272      322      411      599  \n",
       "1      878      889      924      963     1007     1086  \n",
       "2      266      313      345      385      432      455  \n",
       "3        1        1        1        1        1        2  \n",
       "4      673      790      900     1030     1183     1306  \n",
       "\n",
       "[5 rows x 64 columns]"
      ]
     },
     "execution_count": 4,
     "metadata": {},
     "output_type": "execute_result"
    }
   ],
   "source": [
    "data.head()"
   ]
  },
  {
   "cell_type": "code",
   "execution_count": 5,
   "metadata": {},
   "outputs": [],
   "source": [
    "colnames=list(data.columns)"
   ]
  },
  {
   "cell_type": "code",
   "execution_count": 6,
   "metadata": {},
   "outputs": [],
   "source": [
    "rows=data.shape[0]"
   ]
  },
  {
   "cell_type": "code",
   "execution_count": 7,
   "metadata": {},
   "outputs": [],
   "source": [
    "modifiedColNames=colnames[3:]\n",
    "l=[]\n",
    "for name in modifiedColNames:\n",
    "  r=np.count_nonzero(data[name])\n",
    "  remain=rows-r\n",
    "  percent=(remain/rows)*100\n",
    "\n",
    "  if percent>70:\n",
    "    data=data.drop(columns=name)"
   ]
  },
  {
   "cell_type": "code",
   "execution_count": 8,
   "metadata": {},
   "outputs": [
    {
     "data": {
      "text/html": [
       "<div>\n",
       "<style scoped>\n",
       "    .dataframe tbody tr th:only-of-type {\n",
       "        vertical-align: middle;\n",
       "    }\n",
       "\n",
       "    .dataframe tbody tr th {\n",
       "        vertical-align: top;\n",
       "    }\n",
       "\n",
       "    .dataframe thead th {\n",
       "        text-align: right;\n",
       "    }\n",
       "</style>\n",
       "<table border=\"1\" class=\"dataframe\">\n",
       "  <thead>\n",
       "    <tr style=\"text-align: right;\">\n",
       "      <th></th>\n",
       "      <th>Country/Region</th>\n",
       "      <th>Lat</th>\n",
       "      <th>Long</th>\n",
       "      <th>3/4/20</th>\n",
       "      <th>3/5/20</th>\n",
       "      <th>3/6/20</th>\n",
       "      <th>3/7/20</th>\n",
       "      <th>3/8/20</th>\n",
       "      <th>3/9/20</th>\n",
       "      <th>3/10/20</th>\n",
       "      <th>...</th>\n",
       "      <th>3/13/20</th>\n",
       "      <th>3/14/20</th>\n",
       "      <th>3/15/20</th>\n",
       "      <th>3/16/20</th>\n",
       "      <th>3/17/20</th>\n",
       "      <th>3/18/20</th>\n",
       "      <th>3/19/20</th>\n",
       "      <th>3/20/20</th>\n",
       "      <th>3/21/20</th>\n",
       "      <th>3/22/20</th>\n",
       "    </tr>\n",
       "  </thead>\n",
       "  <tbody>\n",
       "    <tr>\n",
       "      <th>0</th>\n",
       "      <td>Thailand</td>\n",
       "      <td>15.0000</td>\n",
       "      <td>101.0000</td>\n",
       "      <td>43</td>\n",
       "      <td>47</td>\n",
       "      <td>48</td>\n",
       "      <td>50</td>\n",
       "      <td>50</td>\n",
       "      <td>50</td>\n",
       "      <td>53</td>\n",
       "      <td>...</td>\n",
       "      <td>75</td>\n",
       "      <td>82</td>\n",
       "      <td>114</td>\n",
       "      <td>147</td>\n",
       "      <td>177</td>\n",
       "      <td>212</td>\n",
       "      <td>272</td>\n",
       "      <td>322</td>\n",
       "      <td>411</td>\n",
       "      <td>599</td>\n",
       "    </tr>\n",
       "    <tr>\n",
       "      <th>1</th>\n",
       "      <td>Japan</td>\n",
       "      <td>36.0000</td>\n",
       "      <td>138.0000</td>\n",
       "      <td>331</td>\n",
       "      <td>360</td>\n",
       "      <td>420</td>\n",
       "      <td>461</td>\n",
       "      <td>502</td>\n",
       "      <td>511</td>\n",
       "      <td>581</td>\n",
       "      <td>...</td>\n",
       "      <td>701</td>\n",
       "      <td>773</td>\n",
       "      <td>839</td>\n",
       "      <td>825</td>\n",
       "      <td>878</td>\n",
       "      <td>889</td>\n",
       "      <td>924</td>\n",
       "      <td>963</td>\n",
       "      <td>1007</td>\n",
       "      <td>1086</td>\n",
       "    </tr>\n",
       "    <tr>\n",
       "      <th>2</th>\n",
       "      <td>Singapore</td>\n",
       "      <td>1.2833</td>\n",
       "      <td>103.8333</td>\n",
       "      <td>110</td>\n",
       "      <td>117</td>\n",
       "      <td>130</td>\n",
       "      <td>138</td>\n",
       "      <td>150</td>\n",
       "      <td>150</td>\n",
       "      <td>160</td>\n",
       "      <td>...</td>\n",
       "      <td>200</td>\n",
       "      <td>212</td>\n",
       "      <td>226</td>\n",
       "      <td>243</td>\n",
       "      <td>266</td>\n",
       "      <td>313</td>\n",
       "      <td>345</td>\n",
       "      <td>385</td>\n",
       "      <td>432</td>\n",
       "      <td>455</td>\n",
       "    </tr>\n",
       "    <tr>\n",
       "      <th>3</th>\n",
       "      <td>Nepal</td>\n",
       "      <td>28.1667</td>\n",
       "      <td>84.2500</td>\n",
       "      <td>1</td>\n",
       "      <td>1</td>\n",
       "      <td>1</td>\n",
       "      <td>1</td>\n",
       "      <td>1</td>\n",
       "      <td>1</td>\n",
       "      <td>1</td>\n",
       "      <td>...</td>\n",
       "      <td>1</td>\n",
       "      <td>1</td>\n",
       "      <td>1</td>\n",
       "      <td>1</td>\n",
       "      <td>1</td>\n",
       "      <td>1</td>\n",
       "      <td>1</td>\n",
       "      <td>1</td>\n",
       "      <td>1</td>\n",
       "      <td>2</td>\n",
       "    </tr>\n",
       "    <tr>\n",
       "      <th>4</th>\n",
       "      <td>Malaysia</td>\n",
       "      <td>2.5000</td>\n",
       "      <td>112.5000</td>\n",
       "      <td>50</td>\n",
       "      <td>50</td>\n",
       "      <td>83</td>\n",
       "      <td>93</td>\n",
       "      <td>99</td>\n",
       "      <td>117</td>\n",
       "      <td>129</td>\n",
       "      <td>...</td>\n",
       "      <td>197</td>\n",
       "      <td>238</td>\n",
       "      <td>428</td>\n",
       "      <td>566</td>\n",
       "      <td>673</td>\n",
       "      <td>790</td>\n",
       "      <td>900</td>\n",
       "      <td>1030</td>\n",
       "      <td>1183</td>\n",
       "      <td>1306</td>\n",
       "    </tr>\n",
       "  </tbody>\n",
       "</table>\n",
       "<p>5 rows × 22 columns</p>\n",
       "</div>"
      ],
      "text/plain": [
       "  Country/Region      Lat      Long  3/4/20  3/5/20  3/6/20  3/7/20  3/8/20  \\\n",
       "0       Thailand  15.0000  101.0000      43      47      48      50      50   \n",
       "1          Japan  36.0000  138.0000     331     360     420     461     502   \n",
       "2      Singapore   1.2833  103.8333     110     117     130     138     150   \n",
       "3          Nepal  28.1667   84.2500       1       1       1       1       1   \n",
       "4       Malaysia   2.5000  112.5000      50      50      83      93      99   \n",
       "\n",
       "   3/9/20  3/10/20  ...  3/13/20  3/14/20  3/15/20  3/16/20  3/17/20  3/18/20  \\\n",
       "0      50       53  ...       75       82      114      147      177      212   \n",
       "1     511      581  ...      701      773      839      825      878      889   \n",
       "2     150      160  ...      200      212      226      243      266      313   \n",
       "3       1        1  ...        1        1        1        1        1        1   \n",
       "4     117      129  ...      197      238      428      566      673      790   \n",
       "\n",
       "   3/19/20  3/20/20  3/21/20  3/22/20  \n",
       "0      272      322      411      599  \n",
       "1      924      963     1007     1086  \n",
       "2      345      385      432      455  \n",
       "3        1        1        1        2  \n",
       "4      900     1030     1183     1306  \n",
       "\n",
       "[5 rows x 22 columns]"
      ]
     },
     "execution_count": 8,
     "metadata": {},
     "output_type": "execute_result"
    }
   ],
   "source": [
    "data.head()"
   ]
  },
  {
   "cell_type": "code",
   "execution_count": 9,
   "metadata": {},
   "outputs": [],
   "source": [
    "data1=data['Lat']\n",
    "data2=data['Long']\n",
    "df1=data.drop(columns=['Lat','Long'])\n",
    "df2 = df1.groupby(['Country/Region'],as_index=False).sum()"
   ]
  },
  {
   "cell_type": "code",
   "execution_count": 10,
   "metadata": {},
   "outputs": [
    {
     "data": {
      "text/html": [
       "<div>\n",
       "<style scoped>\n",
       "    .dataframe tbody tr th:only-of-type {\n",
       "        vertical-align: middle;\n",
       "    }\n",
       "\n",
       "    .dataframe tbody tr th {\n",
       "        vertical-align: top;\n",
       "    }\n",
       "\n",
       "    .dataframe thead th {\n",
       "        text-align: right;\n",
       "    }\n",
       "</style>\n",
       "<table border=\"1\" class=\"dataframe\">\n",
       "  <thead>\n",
       "    <tr style=\"text-align: right;\">\n",
       "      <th></th>\n",
       "      <th>Country/Region</th>\n",
       "      <th>3/4/20</th>\n",
       "      <th>3/5/20</th>\n",
       "      <th>3/6/20</th>\n",
       "      <th>3/7/20</th>\n",
       "      <th>3/8/20</th>\n",
       "      <th>3/9/20</th>\n",
       "      <th>3/10/20</th>\n",
       "      <th>3/11/20</th>\n",
       "      <th>3/12/20</th>\n",
       "      <th>3/13/20</th>\n",
       "      <th>3/14/20</th>\n",
       "      <th>3/15/20</th>\n",
       "      <th>3/16/20</th>\n",
       "      <th>3/17/20</th>\n",
       "      <th>3/18/20</th>\n",
       "      <th>3/19/20</th>\n",
       "      <th>3/20/20</th>\n",
       "      <th>3/21/20</th>\n",
       "      <th>3/22/20</th>\n",
       "    </tr>\n",
       "  </thead>\n",
       "  <tbody>\n",
       "    <tr>\n",
       "      <th>166</th>\n",
       "      <td>Uzbekistan</td>\n",
       "      <td>0</td>\n",
       "      <td>0</td>\n",
       "      <td>0</td>\n",
       "      <td>0</td>\n",
       "      <td>0</td>\n",
       "      <td>0</td>\n",
       "      <td>0</td>\n",
       "      <td>0</td>\n",
       "      <td>0</td>\n",
       "      <td>0</td>\n",
       "      <td>0</td>\n",
       "      <td>1</td>\n",
       "      <td>6</td>\n",
       "      <td>10</td>\n",
       "      <td>15</td>\n",
       "      <td>23</td>\n",
       "      <td>33</td>\n",
       "      <td>43</td>\n",
       "      <td>43</td>\n",
       "    </tr>\n",
       "    <tr>\n",
       "      <th>167</th>\n",
       "      <td>Venezuela</td>\n",
       "      <td>0</td>\n",
       "      <td>0</td>\n",
       "      <td>0</td>\n",
       "      <td>0</td>\n",
       "      <td>0</td>\n",
       "      <td>0</td>\n",
       "      <td>0</td>\n",
       "      <td>0</td>\n",
       "      <td>0</td>\n",
       "      <td>0</td>\n",
       "      <td>2</td>\n",
       "      <td>10</td>\n",
       "      <td>17</td>\n",
       "      <td>33</td>\n",
       "      <td>36</td>\n",
       "      <td>42</td>\n",
       "      <td>42</td>\n",
       "      <td>70</td>\n",
       "      <td>70</td>\n",
       "    </tr>\n",
       "    <tr>\n",
       "      <th>168</th>\n",
       "      <td>Vietnam</td>\n",
       "      <td>16</td>\n",
       "      <td>16</td>\n",
       "      <td>16</td>\n",
       "      <td>18</td>\n",
       "      <td>30</td>\n",
       "      <td>30</td>\n",
       "      <td>31</td>\n",
       "      <td>38</td>\n",
       "      <td>39</td>\n",
       "      <td>47</td>\n",
       "      <td>53</td>\n",
       "      <td>56</td>\n",
       "      <td>61</td>\n",
       "      <td>66</td>\n",
       "      <td>75</td>\n",
       "      <td>85</td>\n",
       "      <td>91</td>\n",
       "      <td>94</td>\n",
       "      <td>113</td>\n",
       "    </tr>\n",
       "    <tr>\n",
       "      <th>169</th>\n",
       "      <td>Zambia</td>\n",
       "      <td>0</td>\n",
       "      <td>0</td>\n",
       "      <td>0</td>\n",
       "      <td>0</td>\n",
       "      <td>0</td>\n",
       "      <td>0</td>\n",
       "      <td>0</td>\n",
       "      <td>0</td>\n",
       "      <td>0</td>\n",
       "      <td>0</td>\n",
       "      <td>0</td>\n",
       "      <td>0</td>\n",
       "      <td>0</td>\n",
       "      <td>0</td>\n",
       "      <td>2</td>\n",
       "      <td>2</td>\n",
       "      <td>2</td>\n",
       "      <td>2</td>\n",
       "      <td>3</td>\n",
       "    </tr>\n",
       "    <tr>\n",
       "      <th>170</th>\n",
       "      <td>Zimbabwe</td>\n",
       "      <td>0</td>\n",
       "      <td>0</td>\n",
       "      <td>0</td>\n",
       "      <td>0</td>\n",
       "      <td>0</td>\n",
       "      <td>0</td>\n",
       "      <td>0</td>\n",
       "      <td>0</td>\n",
       "      <td>0</td>\n",
       "      <td>0</td>\n",
       "      <td>0</td>\n",
       "      <td>0</td>\n",
       "      <td>0</td>\n",
       "      <td>0</td>\n",
       "      <td>0</td>\n",
       "      <td>0</td>\n",
       "      <td>1</td>\n",
       "      <td>3</td>\n",
       "      <td>3</td>\n",
       "    </tr>\n",
       "  </tbody>\n",
       "</table>\n",
       "</div>"
      ],
      "text/plain": [
       "    Country/Region  3/4/20  3/5/20  3/6/20  3/7/20  3/8/20  3/9/20  3/10/20  \\\n",
       "166     Uzbekistan       0       0       0       0       0       0        0   \n",
       "167      Venezuela       0       0       0       0       0       0        0   \n",
       "168        Vietnam      16      16      16      18      30      30       31   \n",
       "169         Zambia       0       0       0       0       0       0        0   \n",
       "170       Zimbabwe       0       0       0       0       0       0        0   \n",
       "\n",
       "     3/11/20  3/12/20  3/13/20  3/14/20  3/15/20  3/16/20  3/17/20  3/18/20  \\\n",
       "166        0        0        0        0        1        6       10       15   \n",
       "167        0        0        0        2       10       17       33       36   \n",
       "168       38       39       47       53       56       61       66       75   \n",
       "169        0        0        0        0        0        0        0        2   \n",
       "170        0        0        0        0        0        0        0        0   \n",
       "\n",
       "     3/19/20  3/20/20  3/21/20  3/22/20  \n",
       "166       23       33       43       43  \n",
       "167       42       42       70       70  \n",
       "168       85       91       94      113  \n",
       "169        2        2        2        3  \n",
       "170        0        1        3        3  "
      ]
     },
     "execution_count": 10,
     "metadata": {},
     "output_type": "execute_result"
    }
   ],
   "source": [
    "df2.shape\n",
    "df2.tail()"
   ]
  },
  {
   "cell_type": "code",
   "execution_count": 11,
   "metadata": {},
   "outputs": [],
   "source": [
    "dcols=list(df2.columns)"
   ]
  },
  {
   "cell_type": "code",
   "execution_count": 12,
   "metadata": {},
   "outputs": [],
   "source": [
    "o=[]\n",
    "for column in dcols:\n",
    "  t=df2[column].sum()\n",
    "  o.append(t)"
   ]
  },
  {
   "cell_type": "code",
   "execution_count": 13,
   "metadata": {},
   "outputs": [],
   "source": [
    "rowsum=df2.sum(axis=1)"
   ]
  },
  {
   "cell_type": "code",
   "execution_count": 14,
   "metadata": {},
   "outputs": [
    {
     "data": {
      "text/html": [
       "<div>\n",
       "<style scoped>\n",
       "    .dataframe tbody tr th:only-of-type {\n",
       "        vertical-align: middle;\n",
       "    }\n",
       "\n",
       "    .dataframe tbody tr th {\n",
       "        vertical-align: top;\n",
       "    }\n",
       "\n",
       "    .dataframe thead th {\n",
       "        text-align: right;\n",
       "    }\n",
       "</style>\n",
       "<table border=\"1\" class=\"dataframe\">\n",
       "  <thead>\n",
       "    <tr style=\"text-align: right;\">\n",
       "      <th></th>\n",
       "      <th>Country/Region</th>\n",
       "      <th>3/4/20</th>\n",
       "      <th>3/5/20</th>\n",
       "      <th>3/6/20</th>\n",
       "      <th>3/7/20</th>\n",
       "      <th>3/8/20</th>\n",
       "      <th>3/9/20</th>\n",
       "      <th>3/10/20</th>\n",
       "      <th>3/11/20</th>\n",
       "      <th>3/12/20</th>\n",
       "      <th>...</th>\n",
       "      <th>3/14/20</th>\n",
       "      <th>3/15/20</th>\n",
       "      <th>3/16/20</th>\n",
       "      <th>3/17/20</th>\n",
       "      <th>3/18/20</th>\n",
       "      <th>3/19/20</th>\n",
       "      <th>3/20/20</th>\n",
       "      <th>3/21/20</th>\n",
       "      <th>3/22/20</th>\n",
       "      <th>Total</th>\n",
       "    </tr>\n",
       "  </thead>\n",
       "  <tbody>\n",
       "    <tr>\n",
       "      <th>0</th>\n",
       "      <td>Afghanistan</td>\n",
       "      <td>1</td>\n",
       "      <td>1</td>\n",
       "      <td>1</td>\n",
       "      <td>1</td>\n",
       "      <td>4</td>\n",
       "      <td>4</td>\n",
       "      <td>5</td>\n",
       "      <td>7</td>\n",
       "      <td>7</td>\n",
       "      <td>...</td>\n",
       "      <td>11</td>\n",
       "      <td>16</td>\n",
       "      <td>21</td>\n",
       "      <td>22</td>\n",
       "      <td>22</td>\n",
       "      <td>22</td>\n",
       "      <td>24</td>\n",
       "      <td>24</td>\n",
       "      <td>40</td>\n",
       "      <td>240</td>\n",
       "    </tr>\n",
       "    <tr>\n",
       "      <th>1</th>\n",
       "      <td>Albania</td>\n",
       "      <td>0</td>\n",
       "      <td>0</td>\n",
       "      <td>0</td>\n",
       "      <td>0</td>\n",
       "      <td>0</td>\n",
       "      <td>2</td>\n",
       "      <td>10</td>\n",
       "      <td>12</td>\n",
       "      <td>23</td>\n",
       "      <td>...</td>\n",
       "      <td>38</td>\n",
       "      <td>42</td>\n",
       "      <td>51</td>\n",
       "      <td>55</td>\n",
       "      <td>59</td>\n",
       "      <td>64</td>\n",
       "      <td>70</td>\n",
       "      <td>76</td>\n",
       "      <td>89</td>\n",
       "      <td>624</td>\n",
       "    </tr>\n",
       "    <tr>\n",
       "      <th>2</th>\n",
       "      <td>Algeria</td>\n",
       "      <td>12</td>\n",
       "      <td>12</td>\n",
       "      <td>17</td>\n",
       "      <td>17</td>\n",
       "      <td>19</td>\n",
       "      <td>20</td>\n",
       "      <td>20</td>\n",
       "      <td>20</td>\n",
       "      <td>24</td>\n",
       "      <td>...</td>\n",
       "      <td>37</td>\n",
       "      <td>48</td>\n",
       "      <td>54</td>\n",
       "      <td>60</td>\n",
       "      <td>74</td>\n",
       "      <td>87</td>\n",
       "      <td>90</td>\n",
       "      <td>139</td>\n",
       "      <td>201</td>\n",
       "      <td>977</td>\n",
       "    </tr>\n",
       "    <tr>\n",
       "      <th>3</th>\n",
       "      <td>Andorra</td>\n",
       "      <td>1</td>\n",
       "      <td>1</td>\n",
       "      <td>1</td>\n",
       "      <td>1</td>\n",
       "      <td>1</td>\n",
       "      <td>1</td>\n",
       "      <td>1</td>\n",
       "      <td>1</td>\n",
       "      <td>1</td>\n",
       "      <td>...</td>\n",
       "      <td>1</td>\n",
       "      <td>1</td>\n",
       "      <td>2</td>\n",
       "      <td>39</td>\n",
       "      <td>39</td>\n",
       "      <td>53</td>\n",
       "      <td>75</td>\n",
       "      <td>88</td>\n",
       "      <td>113</td>\n",
       "      <td>421</td>\n",
       "    </tr>\n",
       "    <tr>\n",
       "      <th>4</th>\n",
       "      <td>Angola</td>\n",
       "      <td>0</td>\n",
       "      <td>0</td>\n",
       "      <td>0</td>\n",
       "      <td>0</td>\n",
       "      <td>0</td>\n",
       "      <td>0</td>\n",
       "      <td>0</td>\n",
       "      <td>0</td>\n",
       "      <td>0</td>\n",
       "      <td>...</td>\n",
       "      <td>0</td>\n",
       "      <td>0</td>\n",
       "      <td>0</td>\n",
       "      <td>0</td>\n",
       "      <td>0</td>\n",
       "      <td>0</td>\n",
       "      <td>1</td>\n",
       "      <td>2</td>\n",
       "      <td>2</td>\n",
       "      <td>5</td>\n",
       "    </tr>\n",
       "  </tbody>\n",
       "</table>\n",
       "<p>5 rows × 21 columns</p>\n",
       "</div>"
      ],
      "text/plain": [
       "  Country/Region  3/4/20  3/5/20  3/6/20  3/7/20  3/8/20  3/9/20  3/10/20  \\\n",
       "0    Afghanistan       1       1       1       1       4       4        5   \n",
       "1        Albania       0       0       0       0       0       2       10   \n",
       "2        Algeria      12      12      17      17      19      20       20   \n",
       "3        Andorra       1       1       1       1       1       1        1   \n",
       "4         Angola       0       0       0       0       0       0        0   \n",
       "\n",
       "   3/11/20  3/12/20  ...  3/14/20  3/15/20  3/16/20  3/17/20  3/18/20  \\\n",
       "0        7        7  ...       11       16       21       22       22   \n",
       "1       12       23  ...       38       42       51       55       59   \n",
       "2       20       24  ...       37       48       54       60       74   \n",
       "3        1        1  ...        1        1        2       39       39   \n",
       "4        0        0  ...        0        0        0        0        0   \n",
       "\n",
       "   3/19/20  3/20/20  3/21/20  3/22/20  Total   \n",
       "0       22       24       24       40     240  \n",
       "1       64       70       76       89     624  \n",
       "2       87       90      139      201     977  \n",
       "3       53       75       88      113     421  \n",
       "4        0        1        2        2       5  \n",
       "\n",
       "[5 rows x 21 columns]"
      ]
     },
     "execution_count": 14,
     "metadata": {},
     "output_type": "execute_result"
    }
   ],
   "source": [
    "df2['Total ']=rowsum\n",
    "df2.head()\n"
   ]
  },
  {
   "cell_type": "code",
   "execution_count": 15,
   "metadata": {},
   "outputs": [
    {
     "data": {
      "text/html": [
       "<div>\n",
       "<style scoped>\n",
       "    .dataframe tbody tr th:only-of-type {\n",
       "        vertical-align: middle;\n",
       "    }\n",
       "\n",
       "    .dataframe tbody tr th {\n",
       "        vertical-align: top;\n",
       "    }\n",
       "\n",
       "    .dataframe thead th {\n",
       "        text-align: right;\n",
       "    }\n",
       "</style>\n",
       "<table border=\"1\" class=\"dataframe\">\n",
       "  <thead>\n",
       "    <tr style=\"text-align: right;\">\n",
       "      <th></th>\n",
       "      <th>Country</th>\n",
       "      <th>Total_cases</th>\n",
       "    </tr>\n",
       "  </thead>\n",
       "  <tbody>\n",
       "    <tr>\n",
       "      <th>0</th>\n",
       "      <td>Afghanistan</td>\n",
       "      <td>240</td>\n",
       "    </tr>\n",
       "    <tr>\n",
       "      <th>1</th>\n",
       "      <td>Albania</td>\n",
       "      <td>624</td>\n",
       "    </tr>\n",
       "    <tr>\n",
       "      <th>2</th>\n",
       "      <td>Algeria</td>\n",
       "      <td>977</td>\n",
       "    </tr>\n",
       "    <tr>\n",
       "      <th>3</th>\n",
       "      <td>Andorra</td>\n",
       "      <td>421</td>\n",
       "    </tr>\n",
       "    <tr>\n",
       "      <th>4</th>\n",
       "      <td>Angola</td>\n",
       "      <td>5</td>\n",
       "    </tr>\n",
       "  </tbody>\n",
       "</table>\n",
       "</div>"
      ],
      "text/plain": [
       "       Country  Total_cases\n",
       "0  Afghanistan          240\n",
       "1      Albania          624\n",
       "2      Algeria          977\n",
       "3      Andorra          421\n",
       "4       Angola            5"
      ]
     },
     "execution_count": 15,
     "metadata": {},
     "output_type": "execute_result"
    }
   ],
   "source": [
    "a1=df2['Country/Region']\n",
    "a2=df2['Total ']\n",
    "a1\n",
    "cn=[\"Country\",\"Total_cases\"]\n",
    "dfp1 = pd.DataFrame(columns = cn)\n",
    "dfp1['Country']=a1\n",
    "dfp1['Total_cases']=a2\n",
    "dfp1.head()"
   ]
  },
  {
   "cell_type": "code",
   "execution_count": 16,
   "metadata": {},
   "outputs": [
    {
     "data": {
      "image/png": "[encoded data removed]",
      "text/plain": [
       "<Figure size 432x288 with 1 Axes>"
      ]
     },
     "metadata": {
      "needs_background": "light"
     },
     "output_type": "display_data"
    }
   ],
   "source": [
    "dfp1.plot(x='Country',y='Total_cases',kind = 'line')\n",
    "plt.show()"
   ]
  },
  {
   "cell_type": "code",
   "execution_count": 17,
   "metadata": {},
   "outputs": [
    {
     "data": {
      "text/plain": [
       "<matplotlib.axes._subplots.AxesSubplot at 0x1daf16e3390>"
      ]
     },
     "execution_count": 17,
     "metadata": {},
     "output_type": "execute_result"
    },
    {
     "data": {
      "image/png": "[encoded data removed]",
      "text/plain": [
       "<Figure size 432x288 with 1 Axes>"
      ]
     },
     "metadata": {
      "needs_background": "light"
     },
     "output_type": "display_data"
    }
   ],
   "source": [
    "dfp1.plot(x='Country',y='Total_cases',kind = 'bar')"
   ]
  },
  {
   "cell_type": "code",
   "execution_count": 20,
   "metadata": {},
   "outputs": [
    {
     "data": {
      "text/plain": [
       "<matplotlib.axes._subplots.AxesSubplot at 0x1daf6678cf8>"
      ]
     },
     "execution_count": 20,
     "metadata": {},
     "output_type": "execute_result"
    },
    {
     "data": {
      "image/png": "[encoded data removed]",
      "text/plain": [
       "<Figure size 432x288 with 1 Axes>"
      ]
     },
     "metadata": {
      "needs_background": "light"
     },
     "output_type": "display_data"
    }
   ],
   "source": [
    "sns.rugplot(dfp1['Total_cases'])"
   ]
  },
  {
   "cell_type": "code",
   "execution_count": 21,
   "metadata": {},
   "outputs": [
    {
     "data": {
      "text/plain": [
       "<matplotlib.axes._subplots.AxesSubplot at 0x1daf66787b8>"
      ]
     },
     "execution_count": 21,
     "metadata": {},
     "output_type": "execute_result"
    },
    {
     "data": {
      "image/png": "[encoded data removed]",
      "text/plain": [
       "<Figure size 432x288 with 1 Axes>"
      ]
     },
     "metadata": {
      "needs_background": "light"
     },
     "output_type": "display_data"
    }
   ],
   "source": [
    "sns.countplot(x=\"Total_cases\",data=dfp1)"
   ]
  },
  {
   "cell_type": "code",
   "execution_count": 23,
   "metadata": {},
   "outputs": [
    {
     "data": {
      "text/plain": [
       "<matplotlib.axes._subplots.AxesSubplot at 0x1daf6528470>"
      ]
     },
     "execution_count": 23,
     "metadata": {},
     "output_type": "execute_result"
    },
    {
     "data": {
      "image/png": "[encoded data removed]",
      "text/plain": [
       "<Figure size 432x288 with 1 Axes>"
      ]
     },
     "metadata": {
      "needs_background": "light"
     },
     "output_type": "display_data"
    }
   ],
   "source": [
    "dfp1.plot.bar()"
   ]
  },
  {
   "cell_type": "code",
   "execution_count": 24,
   "metadata": {},
   "outputs": [
    {
     "data": {
      "text/plain": [
       "<matplotlib.axes._subplots.AxesSubplot at 0x1daf686ef60>"
      ]
     },
     "execution_count": 24,
     "metadata": {},
     "output_type": "execute_result"
    },
    {
     "data": {
      "image/png": "[encoded data removed]",
      "text/plain": [
       "<Figure size 432x288 with 1 Axes>"
      ]
     },
     "metadata": {
      "needs_background": "light"
     },
     "output_type": "display_data"
    }
   ],
   "source": [
    "dfp1.plot(x='Country',y='Total_cases',kind='bar')"
   ]
  },
  {
   "cell_type": "code",
   "execution_count": 25,
   "metadata": {},
   "outputs": [
    {
     "data": {
      "text/plain": [
       "<matplotlib.axes._subplots.AxesSubplot at 0x1daf6c8ce10>"
      ]
     },
     "execution_count": 25,
     "metadata": {},
     "output_type": "execute_result"
    },
    {
     "data": {
      "image/png": "[encoded data removed]",
      "text/plain": [
       "<Figure size 432x288 with 1 Axes>"
      ]
     },
     "metadata": {
      "needs_background": "light"
     },
     "output_type": "display_data"
    }
   ],
   "source": [
    "sns.distplot(dfp1['Total_cases'])"
   ]
  },
  {
   "cell_type": "code",
   "execution_count": 26,
   "metadata": {},
   "outputs": [
    {
     "data": {
      "text/plain": [
       "<matplotlib.axes._subplots.AxesSubplot at 0x1daf6d700f0>"
      ]
     },
     "execution_count": 26,
     "metadata": {},
     "output_type": "execute_result"
    },
    {
     "data": {
      "image/png": "[encoded data removed]",
      "text/plain": [
       "<Figure size 432x288 with 1 Axes>"
      ]
     },
     "metadata": {
      "needs_background": "light"
     },
     "output_type": "display_data"
    }
   ],
   "source": [
    "dfp1.plot.area(alpha=0.4)\n"
   ]
  },
  {
   "cell_type": "code",
   "execution_count": 27,
   "metadata": {},
   "outputs": [
    {
     "data": {
      "text/plain": [
       "count    1.710000e+02\n",
       "mean     1.879782e+04\n",
       "std      1.244992e+05\n",
       "min      1.000000e+00\n",
       "25%      2.650000e+01\n",
       "50%      4.210000e+02\n",
       "75%      2.326000e+03\n",
       "max      1.538032e+06\n",
       "Name: Total_cases, dtype: float64"
      ]
     },
     "execution_count": 27,
     "metadata": {},
     "output_type": "execute_result"
    }
   ],
   "source": [
    "dfp1['Total_cases'].describe()"
   ]
  },
  {
   "cell_type": "code",
   "execution_count": 28,
   "metadata": {},
   "outputs": [
    {
     "data": {
      "text/html": [
       "<div>\n",
       "<style scoped>\n",
       "    .dataframe tbody tr th:only-of-type {\n",
       "        vertical-align: middle;\n",
       "    }\n",
       "\n",
       "    .dataframe tbody tr th {\n",
       "        vertical-align: top;\n",
       "    }\n",
       "\n",
       "    .dataframe thead th {\n",
       "        text-align: right;\n",
       "    }\n",
       "</style>\n",
       "<table border=\"1\" class=\"dataframe\">\n",
       "  <thead>\n",
       "    <tr style=\"text-align: right;\">\n",
       "      <th></th>\n",
       "      <th>Country</th>\n",
       "      <th>Total_cases</th>\n",
       "    </tr>\n",
       "  </thead>\n",
       "  <tbody>\n",
       "    <tr>\n",
       "      <th>33</th>\n",
       "      <td>China</td>\n",
       "      <td>1538032</td>\n",
       "    </tr>\n",
       "    <tr>\n",
       "      <th>81</th>\n",
       "      <td>Italy</td>\n",
       "      <td>428621</td>\n",
       "    </tr>\n",
       "    <tr>\n",
       "      <th>77</th>\n",
       "      <td>Iran</td>\n",
       "      <td>224700</td>\n",
       "    </tr>\n",
       "    <tr>\n",
       "      <th>145</th>\n",
       "      <td>Spain</td>\n",
       "      <td>156912</td>\n",
       "    </tr>\n",
       "    <tr>\n",
       "      <th>87</th>\n",
       "      <td>Korea, South</td>\n",
       "      <td>147381</td>\n",
       "    </tr>\n",
       "    <tr>\n",
       "      <th>63</th>\n",
       "      <td>Germany</td>\n",
       "      <td>135037</td>\n",
       "    </tr>\n",
       "    <tr>\n",
       "      <th>160</th>\n",
       "      <td>US</td>\n",
       "      <td>124813</td>\n",
       "    </tr>\n",
       "    <tr>\n",
       "      <th>59</th>\n",
       "      <td>France</td>\n",
       "      <td>101444</td>\n",
       "    </tr>\n",
       "    <tr>\n",
       "      <th>150</th>\n",
       "      <td>Switzerland</td>\n",
       "      <td>39007</td>\n",
       "    </tr>\n",
       "    <tr>\n",
       "      <th>164</th>\n",
       "      <td>United Kingdom</td>\n",
       "      <td>29253</td>\n",
       "    </tr>\n",
       "    <tr>\n",
       "      <th>113</th>\n",
       "      <td>Netherlands</td>\n",
       "      <td>23827</td>\n",
       "    </tr>\n",
       "    <tr>\n",
       "      <th>119</th>\n",
       "      <td>Norway</td>\n",
       "      <td>18293</td>\n",
       "    </tr>\n",
       "    <tr>\n",
       "      <th>16</th>\n",
       "      <td>Belgium</td>\n",
       "      <td>17874</td>\n",
       "    </tr>\n",
       "    <tr>\n",
       "      <th>9</th>\n",
       "      <td>Austria</td>\n",
       "      <td>17643</td>\n",
       "    </tr>\n",
       "    <tr>\n",
       "      <th>149</th>\n",
       "      <td>Sweden</td>\n",
       "      <td>15440</td>\n",
       "    </tr>\n",
       "  </tbody>\n",
       "</table>\n",
       "</div>"
      ],
      "text/plain": [
       "            Country  Total_cases\n",
       "33            China      1538032\n",
       "81            Italy       428621\n",
       "77             Iran       224700\n",
       "145           Spain       156912\n",
       "87     Korea, South       147381\n",
       "63          Germany       135037\n",
       "160              US       124813\n",
       "59           France       101444\n",
       "150     Switzerland        39007\n",
       "164  United Kingdom        29253\n",
       "113     Netherlands        23827\n",
       "119          Norway        18293\n",
       "16          Belgium        17874\n",
       "9           Austria        17643\n",
       "149          Sweden        15440"
      ]
     },
     "execution_count": 28,
     "metadata": {},
     "output_type": "execute_result"
    }
   ],
   "source": [
    "top=dfp1.nlargest(15,'Total_cases')\n",
    "top"
   ]
  },
  {
   "cell_type": "code",
   "execution_count": 29,
   "metadata": {},
   "outputs": [
    {
     "name": "stderr",
     "output_type": "stream",
     "text": [
      "c:\\users\\smart\\appdata\\local\\programs\\python\\python36\\lib\\site-packages\\pandas\\plotting\\_matplotlib\\core.py:1330: MatplotlibDeprecationWarning:\n",
      "\n",
      "Support for uppercase single-letter colors is deprecated since Matplotlib 3.1 and will be removed in 3.3; please use lowercase instead.\n",
      "\n"
     ]
    },
    {
     "data": {
      "image/png": "[encoded data removed]",
      "text/plain": [
       "<Figure size 432x288 with 1 Axes>"
      ]
     },
     "metadata": {
      "needs_background": "light"
     },
     "output_type": "display_data"
    }
   ],
   "source": [
    "from matplotlib import style\n",
    "#style.use('ggplot')\n",
    "\n",
    "top.plot(x='Country',y='Total_cases',kind='bar',linewidth=5,color='R')\n",
    "plt.ylabel('Corona Cases')\n",
    "\n",
    "plt.grid()\n",
    "plt.show()"
   ]
  },
  {
   "cell_type": "code",
   "execution_count": null,
   "metadata": {},
   "outputs": [],
   "source": []
  },
  {
   "cell_type": "code",
   "execution_count": null,
   "metadata": {},
   "outputs": [],
   "source": [
    "###################################  REAMANIG CODE WILL UPLOADEDAS SOON AS POSSIBLE"
   ]
  },
  {
   "cell_type": "code",
   "execution_count": 45,
   "metadata": {},
   "outputs": [],
   "source": [
    "df3=df2.loc[df2['Country/Region'] == 'Italy']"
   ]
  },
  {
   "cell_type": "code",
   "execution_count": 46,
   "metadata": {},
   "outputs": [
    {
     "data": {
      "text/html": [
       "<div>\n",
       "<style scoped>\n",
       "    .dataframe tbody tr th:only-of-type {\n",
       "        vertical-align: middle;\n",
       "    }\n",
       "\n",
       "    .dataframe tbody tr th {\n",
       "        vertical-align: top;\n",
       "    }\n",
       "\n",
       "    .dataframe thead th {\n",
       "        text-align: right;\n",
       "    }\n",
       "</style>\n",
       "<table border=\"1\" class=\"dataframe\">\n",
       "  <thead>\n",
       "    <tr style=\"text-align: right;\">\n",
       "      <th></th>\n",
       "      <th>Country/Region</th>\n",
       "      <th>3/4/20</th>\n",
       "      <th>3/5/20</th>\n",
       "      <th>3/6/20</th>\n",
       "      <th>3/7/20</th>\n",
       "      <th>3/8/20</th>\n",
       "      <th>3/9/20</th>\n",
       "      <th>3/10/20</th>\n",
       "      <th>3/11/20</th>\n",
       "      <th>3/12/20</th>\n",
       "      <th>...</th>\n",
       "      <th>3/14/20</th>\n",
       "      <th>3/15/20</th>\n",
       "      <th>3/16/20</th>\n",
       "      <th>3/17/20</th>\n",
       "      <th>3/18/20</th>\n",
       "      <th>3/19/20</th>\n",
       "      <th>3/20/20</th>\n",
       "      <th>3/21/20</th>\n",
       "      <th>3/22/20</th>\n",
       "      <th>Total</th>\n",
       "    </tr>\n",
       "  </thead>\n",
       "  <tbody>\n",
       "    <tr>\n",
       "      <th>81</th>\n",
       "      <td>Italy</td>\n",
       "      <td>3089</td>\n",
       "      <td>3858</td>\n",
       "      <td>4636</td>\n",
       "      <td>5883</td>\n",
       "      <td>7375</td>\n",
       "      <td>9172</td>\n",
       "      <td>10149</td>\n",
       "      <td>12462</td>\n",
       "      <td>12462</td>\n",
       "      <td>...</td>\n",
       "      <td>21157</td>\n",
       "      <td>24747</td>\n",
       "      <td>27980</td>\n",
       "      <td>31506</td>\n",
       "      <td>35713</td>\n",
       "      <td>41035</td>\n",
       "      <td>47021</td>\n",
       "      <td>53578</td>\n",
       "      <td>59138</td>\n",
       "      <td>428621</td>\n",
       "    </tr>\n",
       "  </tbody>\n",
       "</table>\n",
       "<p>1 rows × 21 columns</p>\n",
       "</div>"
      ],
      "text/plain": [
       "   Country/Region  3/4/20  3/5/20  3/6/20  3/7/20  3/8/20  3/9/20  3/10/20  \\\n",
       "81          Italy    3089    3858    4636    5883    7375    9172    10149   \n",
       "\n",
       "    3/11/20  3/12/20  ...  3/14/20  3/15/20  3/16/20  3/17/20  3/18/20  \\\n",
       "81    12462    12462  ...    21157    24747    27980    31506    35713   \n",
       "\n",
       "    3/19/20  3/20/20  3/21/20  3/22/20  Total   \n",
       "81    41035    47021    53578    59138  428621  \n",
       "\n",
       "[1 rows x 21 columns]"
      ]
     },
     "execution_count": 46,
     "metadata": {},
     "output_type": "execute_result"
    }
   ],
   "source": [
    "df3"
   ]
  },
  {
   "cell_type": "code",
   "execution_count": 32,
   "metadata": {},
   "outputs": [
    {
     "data": {
      "text/html": [
       "<div>\n",
       "<style scoped>\n",
       "    .dataframe tbody tr th:only-of-type {\n",
       "        vertical-align: middle;\n",
       "    }\n",
       "\n",
       "    .dataframe tbody tr th {\n",
       "        vertical-align: top;\n",
       "    }\n",
       "\n",
       "    .dataframe thead th {\n",
       "        text-align: right;\n",
       "    }\n",
       "</style>\n",
       "<table border=\"1\" class=\"dataframe\">\n",
       "  <thead>\n",
       "    <tr style=\"text-align: right;\">\n",
       "      <th></th>\n",
       "      <th>3/4/20</th>\n",
       "      <th>3/5/20</th>\n",
       "      <th>3/6/20</th>\n",
       "      <th>3/7/20</th>\n",
       "      <th>3/8/20</th>\n",
       "      <th>3/9/20</th>\n",
       "      <th>3/10/20</th>\n",
       "      <th>3/11/20</th>\n",
       "      <th>3/12/20</th>\n",
       "      <th>3/13/20</th>\n",
       "      <th>3/14/20</th>\n",
       "      <th>3/15/20</th>\n",
       "      <th>3/16/20</th>\n",
       "      <th>3/17/20</th>\n",
       "      <th>3/18/20</th>\n",
       "      <th>3/19/20</th>\n",
       "      <th>3/20/20</th>\n",
       "      <th>3/21/20</th>\n",
       "      <th>3/22/20</th>\n",
       "    </tr>\n",
       "  </thead>\n",
       "  <tbody>\n",
       "    <tr>\n",
       "      <th>81</th>\n",
       "      <td>3089</td>\n",
       "      <td>3858</td>\n",
       "      <td>4636</td>\n",
       "      <td>5883</td>\n",
       "      <td>7375</td>\n",
       "      <td>9172</td>\n",
       "      <td>10149</td>\n",
       "      <td>12462</td>\n",
       "      <td>12462</td>\n",
       "      <td>17660</td>\n",
       "      <td>21157</td>\n",
       "      <td>24747</td>\n",
       "      <td>27980</td>\n",
       "      <td>31506</td>\n",
       "      <td>35713</td>\n",
       "      <td>41035</td>\n",
       "      <td>47021</td>\n",
       "      <td>53578</td>\n",
       "      <td>59138</td>\n",
       "    </tr>\n",
       "  </tbody>\n",
       "</table>\n",
       "</div>"
      ],
      "text/plain": [
       "    3/4/20  3/5/20  3/6/20  3/7/20  3/8/20  3/9/20  3/10/20  3/11/20  3/12/20  \\\n",
       "81    3089    3858    4636    5883    7375    9172    10149    12462    12462   \n",
       "\n",
       "    3/13/20  3/14/20  3/15/20  3/16/20  3/17/20  3/18/20  3/19/20  3/20/20  \\\n",
       "81    17660    21157    24747    27980    31506    35713    41035    47021   \n",
       "\n",
       "    3/21/20  3/22/20  \n",
       "81    53578    59138  "
      ]
     },
     "execution_count": 32,
     "metadata": {},
     "output_type": "execute_result"
    }
   ],
   "source": [
    "df4=df3.drop(columns=['Country/Region','Total '])\n",
    "df4"
   ]
  },
  {
   "cell_type": "code",
   "execution_count": 33,
   "metadata": {},
   "outputs": [],
   "source": []
  },
  {
   "cell_type": "code",
   "execution_count": 59,
   "metadata": {},
   "outputs": [],
   "source": [
    "dates=list(df4.columns)\n"
   ]
  },
  {
   "cell_type": "code",
   "execution_count": null,
   "metadata": {},
   "outputs": [],
   "source": [
    "cases=[]\n",
    "for date in dates:\n",
    "    x=df4.get_value(81,date)\n",
    "    cases.append(x)"
   ]
  },
  {
   "cell_type": "code",
   "execution_count": 61,
   "metadata": {},
   "outputs": [
    {
     "data": {
      "text/plain": [
       "[]"
      ]
     },
     "execution_count": 61,
     "metadata": {},
     "output_type": "execute_result"
    }
   ],
   "source": [
    "cases"
   ]
  },
  {
   "cell_type": "code",
   "execution_count": null,
   "metadata": {},
   "outputs": [],
   "source": [
    "task2=pd.DataFrame(columns=['dates','cases'])"
   ]
  },
  {
   "cell_type": "code",
   "execution_count": null,
   "metadata": {},
   "outputs": [],
   "source": [
    "task2['dates']=dates\n",
    "task2['cases']=cases\n"
   ]
  },
  {
   "cell_type": "code",
   "execution_count": null,
   "metadata": {},
   "outputs": [],
   "source": [
    "task2\n"
   ]
  },
  {
   "cell_type": "code",
   "execution_count": null,
   "metadata": {},
   "outputs": [],
   "source": [
    "task2.plot(x='dates',y='cases',kind='bar',color='red')\n",
    "plt.ylabel('cases')\n",
    "plt.title('Italy\\'s Covid-19 cases/date')\n",
    "plt.show()"
   ]
  },
  {
   "cell_type": "code",
   "execution_count": null,
   "metadata": {},
   "outputs": [],
   "source": [
    "continents=pd.read_csv('\"C:\\\\Users\\\\SMART\\\\Desktop\\\\pract\\\\TF CHALLENGE\\\\Countries-Continents.csv')"
   ]
  },
  {
   "cell_type": "code",
   "execution_count": null,
   "metadata": {},
   "outputs": [],
   "source": [
    "continents.head()\n",
    "c1=continents['Continent']\n",
    "c2=continents['Country']\n",
    "cont=pd.DataFrame(columns=['Country/Region','Continent'])\n",
    "cont['Continent']=c1\n",
    "cont['Country/Region']=c2\n",
    "cont.head()"
   ]
  },
  {
   "cell_type": "code",
   "execution_count": null,
   "metadata": {},
   "outputs": [],
   "source": [
    "df2.head()"
   ]
  },
  {
   "cell_type": "code",
   "execution_count": null,
   "metadata": {},
   "outputs": [],
   "source": [
    "merged = df2.merge(cont, on='Country/Region')\n",
    "merged.head()"
   ]
  },
  {
   "cell_type": "code",
   "execution_count": null,
   "metadata": {},
   "outputs": [],
   "source": [
    "merged.tail()"
   ]
  },
  {
   "cell_type": "code",
   "execution_count": null,
   "metadata": {},
   "outputs": [],
   "source": [
    "merged1 = merged.groupby(['Continent'],as_index=False).sum()"
   ]
  },
  {
   "cell_type": "code",
   "execution_count": null,
   "metadata": {},
   "outputs": [],
   "source": [
    "merged1.head()"
   ]
  },
  {
   "cell_type": "code",
   "execution_count": null,
   "metadata": {},
   "outputs": [],
   "source": [
    "top5continents=merged1.nlargest(5,'Total ')\n",
    "top5continents\n",
    "\n"
   ]
  },
  {
   "cell_type": "code",
   "execution_count": null,
   "metadata": {},
   "outputs": [],
   "source": [
    "h1=top5continents['Continent']\n",
    "h2=top5continents['Total ']\n",
    "h3=top5continents['3/22/20']\n",
    "task3=pd.DataFrame(columns=['Continent','Cases'])\n",
    "task3['Continent']=h1\n",
    "task3['Cases']=h2\n",
    "task3"
   ]
  },
  {
   "cell_type": "code",
   "execution_count": null,
   "metadata": {},
   "outputs": [],
   "source": [
    "task3.plot(x='Continent',y='Cases',kind='bar',color='green')\n",
    "plt.xlabel('Continents')\n",
    "plt.ylabel('Cases')\n",
    "plt.title('Continent-wise representation of number of Covid-19 Cases upto 22nd March,2020 ')\n",
    "plt.show()"
   ]
  },
  {
   "cell_type": "code",
   "execution_count": null,
   "metadata": {},
   "outputs": [],
   "source": [
    "t4=pd.DataFrame(columns=['Continent','Cases'])\n",
    "t4['Continent']=h1\n",
    "t4['Cases']=h3\n",
    "t4\n",
    "#These are the cases on 22nd March,2020"
   ]
  },
  {
   "cell_type": "code",
   "execution_count": null,
   "metadata": {},
   "outputs": [],
   "source": [
    "t4.plot(x='Continent',y='Cases',kind='bar',color='green')\n",
    "plt.xlabel('Continents')\n",
    "plt.ylabel('Cases')\n",
    "plt.title('Continent-wise representation of number of Covid-19 Cases on 22nd March,2020 ')\n",
    "plt.show()"
   ]
  },
  {
   "cell_type": "code",
   "execution_count": null,
   "metadata": {},
   "outputs": [],
   "source": [
    "h2"
   ]
  },
  {
   "cell_type": "code",
   "execution_count": null,
   "metadata": {},
   "outputs": [],
   "source": [
    "k=list(task3['Cases'])\n",
    "k"
   ]
  },
  {
   "cell_type": "code",
   "execution_count": null,
   "metadata": {},
   "outputs": [],
   "source": [
    "x=np.sum(k)\n",
    "x"
   ]
  },
  {
   "cell_type": "code",
   "execution_count": null,
   "metadata": {},
   "outputs": [],
   "source": [
    "k=(k/x)*100"
   ]
  },
  {
   "cell_type": "code",
   "execution_count": null,
   "metadata": {},
   "outputs": [],
   "source": [
    "percentage=list(k)"
   ]
  },
  {
   "cell_type": "code",
   "execution_count": null,
   "metadata": {},
   "outputs": [],
   "source": [
    "topic=list(task3['Continent'])\n"
   ]
  },
  {
   "cell_type": "code",
   "execution_count": null,
   "metadata": {},
   "outputs": [],
   "source": [
    "sizes = percentage\n",
    "labels = list(topic)\n",
    "explode = (0.1, 0.1 , 0.1, 0.1,0.5)  \n",
    "def my_autopct(pct):\n",
    "    return ('%.2f' % pct) if pct > 20 else ''\n",
    "colors = ['purple', 'cyan', 'orange', 'yellow', 'black']\n",
    "plt.pie(sizes, explode=explode, labels=labels, colors=colors, autopct=my_autopct, shadow=False, startangle=60) \n",
    "plt.axis('equal')\n",
    "plt.legend()\n",
    "plt.title('Amongst affected continents')\n",
    "plt.show()"
   ]
  },
  {
   "cell_type": "code",
   "execution_count": null,
   "metadata": {},
   "outputs": [],
   "source": [
    "top5.tail()"
   ]
  },
  {
   "cell_type": "code",
   "execution_count": null,
   "metadata": {},
   "outputs": [],
   "source": [
    "labels=['China','Italy','Iran','Spain','South Korea','Germany','US','France','Switzerland','United Kingdom']\n",
    "k=list(top5['Total Covid-19 cases'])\n",
    "x=np.sum(k)\n",
    "k=k/x\n",
    "k=k*100\n",
    "sizes=list(k)"
   ]
  },
  {
   "cell_type": "code",
   "execution_count": null,
   "metadata": {},
   "outputs": [],
   "source": [
    "def my_autopct(pct):\n",
    "    return ('%.2f' % pct) if pct > 2 else ''\n",
    "explode=(0.1,0.1,0.1,0.1,0.1,0.1,0.1,0.1,0,0.1)\n",
    "plt.pie(sizes, explode=explode, labels=labels, autopct=my_autopct, shadow=False, startangle=20) \n",
    "plt.axis('equal')\n",
    "plt.legend()\n",
    "plt.title('Top-10 affected countries due to Covid-19')\n",
    "plt.show()"
   ]
  },
  {
   "cell_type": "code",
   "execution_count": null,
   "metadata": {},
   "outputs": [],
   "source": []
  },
  {
   "cell_type": "code",
   "execution_count": null,
   "metadata": {},
   "outputs": [],
   "source": []
  }
 ],
 "metadata": {
  "kernelspec": {
   "display_name": "Python 3",
   "language": "python",
   "name": "python3"
  },
  "language_info": {
   "codemirror_mode": {
    "name": "ipython",
    "version": 3
   },
   "file_extension": ".py",
   "mimetype": "text/x-python",
   "name": "python",
   "nbconvert_exporter": "python",
   "pygments_lexer": "ipython3",
   "version": "3.6.5"
  }
 },
 "nbformat": 4,
 "nbformat_minor": 4
}
